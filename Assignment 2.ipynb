{
 "cells": [
  {
   "cell_type": "code",
   "execution_count": 1,
   "metadata": {},
   "outputs": [],
   "source": [
    "states = ['Maharashtra', 'Tamil Nadu', 'Delhi', 'Gujarat', 'Uttar Pradesh', 'West Bengal', 'Rajasthan', 'Telengana', \n",
    "          'Karnataka', 'Andhra Pradesh', 'Haryana', 'Madhya Pradesh', 'Bihar', 'Assam', 'Jammu and Kashmir', 'Odisha', 'Punjab',\n",
    "          'Kerala', 'Uttarakhand', 'Chhattisgarh', 'Jharkhand', 'Tripura', 'Goa', 'Manipur', 'Ladakh', 'Himachal Pradesh', \n",
    "          'Puducherry', 'Nagaland', 'Chandigarh', 'Dadra and Nagar Haveli', 'Arunachal Pradesh', 'Mizoram', 'Sikkim', \n",
    "          'Andaman and Nicobar', 'Meghalaya', 'Lakshadweep']"
   ]
  },
  {
   "cell_type": "code",
   "execution_count": 2,
   "metadata": {},
   "outputs": [],
   "source": [
    "population = [123144223, 77841267, 18710922, 63872399, 237882725, 99609303, 81032689, 39362732, 67562686, 53903393, 28204692, \n",
    "              85358965, 124799926, 35607039, 13606320, 46356334, 30141373, 35699443, 11250858, 29436231, 38593948, 4169794, \n",
    "              1586250, 1586250, 289023, 7451955, 1413542, 2249695, 1158473, 615724, 1570458, 1239244, 690251, 417036, 3366710, \n",
    "              73183]"
   ]
  },
  {
   "cell_type": "code",
   "execution_count": 3,
   "metadata": {},
   "outputs": [],
   "source": [
    "deaths = [8053, 1264, 2803, 1867, 718, 683, 421, 267, 253, 193, 240, 581, 70, 12, 105, 25, 149, 24, 41, 14, 15, 1, 4, 0, 1, 10, \n",
    "          12, 0, 6, 0, 1, 0, 0, 0, 1, 0]"
   ]
  },
  {
   "cell_type": "code",
   "execution_count": 4,
   "metadata": {},
   "outputs": [],
   "source": [
    "def CMR(death, total_population):\n",
    "    return (death / total_population) * 100000"
   ]
  },
  {
   "cell_type": "code",
   "execution_count": 5,
   "metadata": {},
   "outputs": [
    {
     "name": "stdout",
     "output_type": "stream",
     "text": [
      "1. Crude Mortality Rate of Maharashtra is 6.5394866310537365\n",
      "2. Crude Mortality Rate of Tamil Nadu is 1.6238173512771832\n",
      "3. Crude Mortality Rate of Delhi is 14.980555207274126\n",
      "4. Crude Mortality Rate of Gujarat is 2.923015307441325\n",
      "5. Crude Mortality Rate of Uttar Pradesh is 0.30182939933952746\n",
      "6. Crude Mortality Rate of West Bengal is 0.6856789269974111\n",
      "7. Crude Mortality Rate of Rajasthan is 0.5195434153740104\n",
      "8. Crude Mortality Rate of Telengana is 0.6783065768910552\n",
      "9. Crude Mortality Rate of Karnataka is 0.3744670541961579\n",
      "10. Crude Mortality Rate of Andhra Pradesh is 0.35804796184165993\n",
      "11. Crude Mortality Rate of Haryana is 0.8509222508084826\n",
      "12. Crude Mortality Rate of Madhya Pradesh is 0.6806549259354304\n",
      "13. Crude Mortality Rate of Bihar is 0.05608977684810486\n",
      "14. Crude Mortality Rate of Assam is 0.03370120160791803\n",
      "15. Crude Mortality Rate of Jammu and Kashmir is 0.7717002099024571\n",
      "16. Crude Mortality Rate of Odisha is 0.053930062718074295\n",
      "17. Crude Mortality Rate of Punjab is 0.49433713586968986\n",
      "18. Crude Mortality Rate of Kerala is 0.06722793966281211\n",
      "19. Crude Mortality Rate of Uttarakhand is 0.364416651601149\n",
      "20. Crude Mortality Rate of Chhattisgarh is 0.0475604366605222\n",
      "21. Crude Mortality Rate of Jharkhand is 0.03886619736337936\n",
      "22. Crude Mortality Rate of Tripura is 0.023982000070027442\n",
      "23. Crude Mortality Rate of Goa is 0.252167060677699\n",
      "24. Crude Mortality Rate of Manipur is 0.0\n",
      "25. Crude Mortality Rate of Ladakh is 0.34599322545264566\n",
      "26. Crude Mortality Rate of Himachal Pradesh is 0.13419297352171344\n",
      "27. Crude Mortality Rate of Puducherry is 0.8489312662800257\n",
      "28. Crude Mortality Rate of Nagaland is 0.0\n",
      "29. Crude Mortality Rate of Chandigarh is 0.5179231626460004\n",
      "30. Crude Mortality Rate of Dadra and Nagar Haveli is 0.0\n",
      "31. Crude Mortality Rate of Arunachal Pradesh is 0.06367569205925915\n",
      "32. Crude Mortality Rate of Mizoram is 0.0\n",
      "33. Crude Mortality Rate of Sikkim is 0.0\n",
      "34. Crude Mortality Rate of Andaman and Nicobar is 0.0\n",
      "35. Crude Mortality Rate of Meghalaya is 0.029702587986491263\n",
      "36. Crude Mortality Rate of Lakshadweep is 0.0\n"
     ]
    }
   ],
   "source": [
    "for i in range(len(states)):\n",
    "    print(f'{i + 1}. Crude Mortality Rate of {states[i]} is {CMR(deaths[i], population[i])}')"
   ]
  }
 ],
 "metadata": {
  "kernelspec": {
   "display_name": "Python 3.7.6 64-bit",
   "language": "python",
   "name": "python37664bit16fa44404e4941f7996ce5d53eb37087"
  },
  "language_info": {
   "codemirror_mode": {
    "name": "ipython",
    "version": 3
   },
   "file_extension": ".py",
   "mimetype": "text/x-python",
   "name": "python",
   "nbconvert_exporter": "python",
   "pygments_lexer": "ipython3",
   "version": "3.7.6"
  }
 },
 "nbformat": 4,
 "nbformat_minor": 4
}
