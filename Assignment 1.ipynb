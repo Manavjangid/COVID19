{
 "cells": [
  {
   "cell_type": "markdown",
   "metadata": {},
   "source": [
    "=> List of Symptoms:-\n",
    "    1. Serious:-\n",
    "        -Chest pain or pressure\n",
    "        -Difficulty in breathing or shortness of breathing\n",
    "        -loss of speech or movement\n",
    "    2. Most Common:-\n",
    "        -Fever\n",
    "        -Dry Cough\n",
    "        -Tiredness"
   ]
  },
  {
   "cell_type": "code",
   "execution_count": 1,
   "metadata": {},
   "outputs": [],
   "source": [
    "def covid_test(age, serious_symptoms, most_comman_symptoms):\n",
    "    if (age > 60) or (age < 9):\n",
    "        if (serious_symptoms > 0) or (most_comman_symptoms > 0):\n",
    "            print('You have covid!!! Rush to Doctor. Maintaining Social Distancing and wearing Mask.')\n",
    "        else:\n",
    "            print('You Don\\'t have any symptoms of Covid. Stay Safe.')\n",
    "    else:\n",
    "        if most_comman_symptoms > 0:\n",
    "            print('You may have covid!!!. Stay in Quarantine for Round 14 Days. If Symptoms Occure get Worse. Rush to Doctor.')\n",
    "        elif serious_symptoms > 0:\n",
    "            print('You may have covid!!!. Stay in Quarantine for Round 14 Days. If Symptoms Occure get Worse. Rush to Doctor.')\n",
    "        elif (most_comman_symptoms > 0) and (serious_symptoms > 0):\n",
    "            print('You have covid!!! Rush to Doctor. Maintaining Social Distancing and wearing Mask.')\n",
    "        else:\n",
    "            print('You Don\\'t have any symptoms of Covid. Stay Safe.')"
   ]
  },
  {
   "cell_type": "code",
   "execution_count": 2,
   "metadata": {},
   "outputs": [
    {
     "name": "stdout",
     "output_type": "stream",
     "text": [
      "Enter No. of People to be tested :- 1\n",
      "Age :- 20\n",
      "=> Here is List of Symptoms:-\n",
      "                1. Serious:-\n",
      "                    -Chest pain or pressure\n",
      "                    -Difficulty in breathing or shortness of breathing\n",
      "                    -loss of speech or movement\n",
      "                2. Most Common:-\n",
      "                    -Fever\n",
      "                    -Dry Cough\n",
      "                    -Tiredness\n",
      "Enter No. of Serious Symptom You Have :- 0\n",
      "Enter No. of Most Comman Symptom You Have :- 1\n",
      "\n",
      "You may have covid!!!. Stay in Quarantine for Round 14 Days. If Symptoms Occure get Worse. Rush to Doctor.\n"
     ]
    }
   ],
   "source": [
    "for i in range(int(input('Enter No. of People to be tested :- '))):\n",
    "    serious = 0\n",
    "    most_comman = 0\n",
    "    age = int(input('Age :- '))\n",
    "    print('''=> Here is List of Symptoms:-\n",
    "                1. Serious:-\n",
    "                    -Chest pain or pressure\n",
    "                    -Difficulty in breathing or shortness of breathing\n",
    "                    -loss of speech or movement\n",
    "                2. Most Common:-\n",
    "                    -Fever\n",
    "                    -Dry Cough\n",
    "                    -Tiredness''')\n",
    "    serious = int(input('Enter No. of Serious Symptom You Have :- '))\n",
    "    most_comman = int(input('Enter No. of Most Comman Symptom You Have :- '))\n",
    "    print()\n",
    "    covid_test(age, serious, most_comman)"
   ]
  }
 ],
 "metadata": {
  "kernelspec": {
   "display_name": "Python 3.7.6 64-bit",
   "language": "python",
   "name": "python37664bit16fa44404e4941f7996ce5d53eb37087"
  },
  "language_info": {
   "codemirror_mode": {
    "name": "ipython",
    "version": 3
   },
   "file_extension": ".py",
   "mimetype": "text/x-python",
   "name": "python",
   "nbconvert_exporter": "python",
   "pygments_lexer": "ipython3",
   "version": "3.7.6"
  }
 },
 "nbformat": 4,
 "nbformat_minor": 4
}
