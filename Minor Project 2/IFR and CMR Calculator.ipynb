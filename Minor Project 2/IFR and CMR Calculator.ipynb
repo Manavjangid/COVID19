{
 "cells": [
  {
   "cell_type": "code",
   "execution_count": 1,
   "metadata": {},
   "outputs": [],
   "source": [
    "import tkinter\n",
    "from tkinter import ttk\n",
    "import pandas as pd\n",
    "import numpy as np"
   ]
  },
  {
   "cell_type": "code",
   "execution_count": 2,
   "metadata": {},
   "outputs": [],
   "source": [
    "df = pd.read_csv('State wise data.csv')\n",
    "df = pd.DataFrame(data = np.asarray(df.loc[ : , 'Confirmed' : 'Population']), columns = list(df.columns[1 : ]), index = list(df['Unnamed: 0']))"
   ]
  },
  {
   "cell_type": "code",
   "execution_count": 3,
   "metadata": {},
   "outputs": [],
   "source": [
    "tk = tkinter.Tk()"
   ]
  },
  {
   "cell_type": "code",
   "execution_count": 4,
   "metadata": {},
   "outputs": [],
   "source": [
    "tk.geometry('350x400')\n",
    "tk.title('IFR and CMR Calculator')\n",
    "ui1 = tkinter.Label(tk, text = '')\n",
    "ui1.grid(row = 0, column = 0, columnspan = 2)\n",
    "ui2 = tkinter.Label(tk, text = '')\n",
    "ui2.grid(row = 7, column = 0, columnspan = 2)\n",
    "ui3 = tkinter.Label(tk, text = '')\n",
    "ui3.grid(row = 9, column = 0, columnspan = 2)"
   ]
  },
  {
   "cell_type": "code",
   "execution_count": 5,
   "metadata": {},
   "outputs": [],
   "source": [
    "lb1 = tkinter.Label(tk, text=\"Select State/UT:- \")\n",
    "lb1.grid(row = 1, column = 0)\n",
    "lb2 = tkinter.Label(tk, text=\"Confirmed:- \")\n",
    "lb2.grid(row = 2, column = 0)\n",
    "lb3 = tkinter.Label(tk, text=\"Active:- \")\n",
    "lb3.grid(row = 3, column = 0)\n",
    "lb4 = tkinter.Label(tk, text=\"Recovered:- \")\n",
    "lb4.grid(row = 4, column = 0)\n",
    "lb5 = tkinter.Label(tk, text=\"Deceased:- \")\n",
    "lb5.grid(row = 5, column = 0)\n",
    "lb6 = tkinter.Label(tk, text=\"Population:- \")\n",
    "lb6.grid(row = 6, column = 0)"
   ]
  },
  {
   "cell_type": "code",
   "execution_count": 6,
   "metadata": {},
   "outputs": [],
   "source": [
    "cb1 = ttk.Combobox(tk, width = 21)\n",
    "cb1['values'] = tuple(df.index)\n",
    "cb1.grid(row = 1, column = 1)\n",
    "confirmed = tkinter.Label(tk, borderwidth = 1, relief = 'raised', width = '18')\n",
    "confirmed.grid(row = 2, column = 1)\n",
    "active = tkinter.Label(tk, borderwidth = 1, relief = 'raised', width = '18')\n",
    "active.grid(row = 3, column = 1)\n",
    "recovered = tkinter.Label(tk, borderwidth = 1, relief = 'raised', width = '18')\n",
    "recovered.grid(row = 4, column = 1)\n",
    "deceased = tkinter.Label(tk, borderwidth = 1, relief = 'raised', width = '18')\n",
    "deceased.grid(row = 5, column = 1)\n",
    "population = tkinter.Label(tk, borderwidth = 1, relief = 'raised', width = '18')\n",
    "population.grid(row = 6, column = 1)"
   ]
  },
  {
   "cell_type": "code",
   "execution_count": 7,
   "metadata": {},
   "outputs": [],
   "source": [
    "ifr = tkinter.Label(tk, text = 'IFR:- ')\n",
    "ifr.grid(row = 10, column = 0)\n",
    "ifr_result = tkinter.Label(tk, borderwidth = 1, relief = 'raised', width = '18')\n",
    "ifr_result.grid(row = 10, column = 1)\n",
    "ifr_formula = tkinter.Label(tk, text = 'IFR Formula:- Deceased / Confirmed')\n",
    "ifr_formula.grid(row = 11, column = 0, columnspan = 2)\n",
    "cmr = tkinter.Label(tk, text = 'CMR:- ')\n",
    "cmr.grid(row = 12, column = 0)\n",
    "cmr_result = tkinter.Label(tk, borderwidth = 1, relief = 'raised', width = '18')\n",
    "cmr_result.grid(row = 12, column = 1)\n",
    "cmr_formula = tkinter.Label(tk, text = 'CMR Formula:- (Deceased / Population) * 100000')\n",
    "cmr_formula.grid(row = 13, column = 0, columnspan = 2)"
   ]
  },
  {
   "cell_type": "code",
   "execution_count": 8,
   "metadata": {},
   "outputs": [
    {
     "data": {
      "text/plain": [
       "'1482182168456details'"
      ]
     },
     "execution_count": 8,
     "metadata": {},
     "output_type": "execute_result"
    }
   ],
   "source": [
    "def details(a):\n",
    "    confirmed.configure(text = str(df.loc[str(cb1.get()), 'Confirmed']), width = '18')\n",
    "    active.configure(text = str(df.loc[str(cb1.get()), 'Active']), width = '18')\n",
    "    recovered.configure(text = str(df.loc[str(cb1.get()), 'Recovered']), width = '18')\n",
    "    deceased.configure(text = str(df.loc[str(cb1.get()), 'Deceased']), width = '18')\n",
    "    population.configure(text = str(df.loc[str(cb1.get()), 'Population']), width = '18')\n",
    "\n",
    "cb1.bind(\"<<ComboboxSelected>>\", details)"
   ]
  },
  {
   "cell_type": "code",
   "execution_count": 9,
   "metadata": {},
   "outputs": [],
   "source": [
    "def calculate():\n",
    "    ifr_result.configure(text = str(int(deceased['text']) / int(confirmed['text'])), width = '18')\n",
    "    cmr_result.configure(text = str((int(deceased['text']) / int(population['text'])) * 100000), width = '18')"
   ]
  },
  {
   "cell_type": "code",
   "execution_count": 10,
   "metadata": {},
   "outputs": [],
   "source": [
    "def reset():\n",
    "    confirmed.configure(text = '')\n",
    "    active.configure(text = '')\n",
    "    deceased.configure(text = '')\n",
    "    recovered.configure(text = '')\n",
    "    population.configure(text = '')\n",
    "    ifr_result.configure(text = '')\n",
    "    cmr_result.configure(text = '')\n",
    "    cb1.set('')"
   ]
  },
  {
   "cell_type": "code",
   "execution_count": 11,
   "metadata": {},
   "outputs": [],
   "source": [
    "b1 = tkinter.Button(tk, text = \"Calculate\", command = calculate)\n",
    "b1.grid(row = 8, column = 0, columnspan = 2)\n",
    "b2 = tkinter.Button(tk, text = 'Reset', command = reset)\n",
    "b2.grid(row = 8, column = 1)"
   ]
  },
  {
   "cell_type": "code",
   "execution_count": 12,
   "metadata": {},
   "outputs": [],
   "source": [
    "tk.mainloop()"
   ]
  }
 ],
 "metadata": {
  "kernelspec": {
   "display_name": "Python 3.7.6 64-bit",
   "language": "python",
   "name": "python37664bit16fa44404e4941f7996ce5d53eb37087"
  },
  "language_info": {
   "codemirror_mode": {
    "name": "ipython",
    "version": 3
   },
   "file_extension": ".py",
   "mimetype": "text/x-python",
   "name": "python",
   "nbconvert_exporter": "python",
   "pygments_lexer": "ipython3",
   "version": "3.7.6"
  }
 },
 "nbformat": 4,
 "nbformat_minor": 4
}
